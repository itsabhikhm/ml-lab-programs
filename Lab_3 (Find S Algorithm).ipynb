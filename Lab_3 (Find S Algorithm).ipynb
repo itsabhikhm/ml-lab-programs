{
 "cells": [
  {
   "cell_type": "markdown",
   "id": "42b173f2",
   "metadata": {},
   "source": [
    "#### <p style=\"text-align: center;\">Practical 3</p>"
   ]
  },
  {
   "cell_type": "markdown",
   "id": "d1d4e7cf",
   "metadata": {},
   "source": [
    "#### Find S Algorithm"
   ]
  },
  {
   "cell_type": "code",
   "execution_count": 1,
   "id": "e20f5ab1",
   "metadata": {},
   "outputs": [],
   "source": [
    "import pandas as pd\n",
    "import numpy as np"
   ]
  },
  {
   "cell_type": "code",
   "execution_count": 2,
   "id": "61e3577e",
   "metadata": {},
   "outputs": [
    {
     "data": {
      "text/html": [
       "<div>\n",
       "<style scoped>\n",
       "    .dataframe tbody tr th:only-of-type {\n",
       "        vertical-align: middle;\n",
       "    }\n",
       "\n",
       "    .dataframe tbody tr th {\n",
       "        vertical-align: top;\n",
       "    }\n",
       "\n",
       "    .dataframe thead th {\n",
       "        text-align: right;\n",
       "    }\n",
       "</style>\n",
       "<table border=\"1\" class=\"dataframe\">\n",
       "  <thead>\n",
       "    <tr style=\"text-align: right;\">\n",
       "      <th></th>\n",
       "      <th>Sky</th>\n",
       "      <th>AirTemp</th>\n",
       "      <th>Humidity</th>\n",
       "      <th>Wind</th>\n",
       "      <th>Water</th>\n",
       "      <th>Forecast</th>\n",
       "      <th>EnjoySports</th>\n",
       "    </tr>\n",
       "  </thead>\n",
       "  <tbody>\n",
       "    <tr>\n",
       "      <th>0</th>\n",
       "      <td>sunny</td>\n",
       "      <td>warm</td>\n",
       "      <td>normal</td>\n",
       "      <td>strong</td>\n",
       "      <td>warm</td>\n",
       "      <td>same</td>\n",
       "      <td>yes</td>\n",
       "    </tr>\n",
       "    <tr>\n",
       "      <th>1</th>\n",
       "      <td>sunny</td>\n",
       "      <td>warm</td>\n",
       "      <td>high</td>\n",
       "      <td>strong</td>\n",
       "      <td>warm</td>\n",
       "      <td>same</td>\n",
       "      <td>yes</td>\n",
       "    </tr>\n",
       "    <tr>\n",
       "      <th>2</th>\n",
       "      <td>rainy</td>\n",
       "      <td>cold</td>\n",
       "      <td>high</td>\n",
       "      <td>strong</td>\n",
       "      <td>warm</td>\n",
       "      <td>change</td>\n",
       "      <td>no</td>\n",
       "    </tr>\n",
       "    <tr>\n",
       "      <th>3</th>\n",
       "      <td>cloudy</td>\n",
       "      <td>warm</td>\n",
       "      <td>high</td>\n",
       "      <td>strong</td>\n",
       "      <td>cold</td>\n",
       "      <td>change</td>\n",
       "      <td>yes</td>\n",
       "    </tr>\n",
       "  </tbody>\n",
       "</table>\n",
       "</div>"
      ],
      "text/plain": [
       "      Sky AirTemp Humidity    Wind Water Forecast EnjoySports\n",
       "0   sunny    warm   normal  strong  warm     same         yes\n",
       "1   sunny    warm     high  strong  warm     same         yes\n",
       "2   rainy    cold     high  strong  warm   change          no\n",
       "3  cloudy    warm     high  strong  cold   change         yes"
      ]
     },
     "execution_count": 2,
     "metadata": {},
     "output_type": "execute_result"
    }
   ],
   "source": [
    "data1 = pd.read_excel(\"datasets/Lab 3 Dataset.xlsx\")\n",
    "data2 = pd.read_excel(\"datasets/Lab 3 ML Dataset_2.xlsx\")\n",
    "data1.head()"
   ]
  },
  {
   "cell_type": "code",
   "execution_count": 3,
   "id": "00b736a7",
   "metadata": {},
   "outputs": [
    {
     "data": {
      "text/html": [
       "<div>\n",
       "<style scoped>\n",
       "    .dataframe tbody tr th:only-of-type {\n",
       "        vertical-align: middle;\n",
       "    }\n",
       "\n",
       "    .dataframe tbody tr th {\n",
       "        vertical-align: top;\n",
       "    }\n",
       "\n",
       "    .dataframe thead th {\n",
       "        text-align: right;\n",
       "    }\n",
       "</style>\n",
       "<table border=\"1\" class=\"dataframe\">\n",
       "  <thead>\n",
       "    <tr style=\"text-align: right;\">\n",
       "      <th></th>\n",
       "      <th>Caitation</th>\n",
       "      <th>Size</th>\n",
       "      <th>In Library</th>\n",
       "      <th>Price</th>\n",
       "      <th>Edition</th>\n",
       "      <th>Buy</th>\n",
       "    </tr>\n",
       "  </thead>\n",
       "  <tbody>\n",
       "    <tr>\n",
       "      <th>0</th>\n",
       "      <td>Some</td>\n",
       "      <td>Small</td>\n",
       "      <td>unavailabe</td>\n",
       "      <td>cheap</td>\n",
       "      <td>Many</td>\n",
       "      <td>no</td>\n",
       "    </tr>\n",
       "    <tr>\n",
       "      <th>1</th>\n",
       "      <td>Many</td>\n",
       "      <td>Big</td>\n",
       "      <td>unavailabe</td>\n",
       "      <td>expensive</td>\n",
       "      <td>One</td>\n",
       "      <td>yes</td>\n",
       "    </tr>\n",
       "    <tr>\n",
       "      <th>2</th>\n",
       "      <td>Some</td>\n",
       "      <td>Big</td>\n",
       "      <td>availabe</td>\n",
       "      <td>expensive</td>\n",
       "      <td>Few</td>\n",
       "      <td>no</td>\n",
       "    </tr>\n",
       "    <tr>\n",
       "      <th>3</th>\n",
       "      <td>Many</td>\n",
       "      <td>Medium</td>\n",
       "      <td>unavailabe</td>\n",
       "      <td>expensive</td>\n",
       "      <td>Many</td>\n",
       "      <td>yes</td>\n",
       "    </tr>\n",
       "    <tr>\n",
       "      <th>4</th>\n",
       "      <td>Many</td>\n",
       "      <td>Small</td>\n",
       "      <td>unavailabe</td>\n",
       "      <td>cheap</td>\n",
       "      <td>Many</td>\n",
       "      <td>yes</td>\n",
       "    </tr>\n",
       "  </tbody>\n",
       "</table>\n",
       "</div>"
      ],
      "text/plain": [
       "  Caitation    Size  In Library       Price Edition   Buy\n",
       "0      Some   Small  unavailabe       cheap     Many   no\n",
       "1      Many     Big  unavailabe  expensive       One  yes\n",
       "2      Some     Big    availabe  expensive       Few   no\n",
       "3      Many  Medium  unavailabe  expensive      Many  yes\n",
       "4      Many   Small  unavailabe       cheap     Many  yes"
      ]
     },
     "execution_count": 3,
     "metadata": {},
     "output_type": "execute_result"
    }
   ],
   "source": [
    "data2.head()"
   ]
  },
  {
   "cell_type": "code",
   "execution_count": 4,
   "id": "c10f22d5",
   "metadata": {
    "scrolled": true
   },
   "outputs": [
    {
     "name": "stdout",
     "output_type": "stream",
     "text": [
      "The attributes are: \n",
      " [['sunny' 'warm' 'normal' 'strong' 'warm' 'same']\n",
      " ['sunny' 'warm' 'high' 'strong' 'warm' 'same']\n",
      " ['rainy' 'cold' 'high' 'strong' 'warm' 'change']\n",
      " ['cloudy' 'warm' 'high' 'strong' 'cold' 'change']]\n",
      "The target is:  ['yes' 'yes' 'no' 'yes']\n"
     ]
    }
   ],
   "source": [
    "# For Dataset 1\n",
    "# Creating array of all the attributes \n",
    "d1 = np.array(data1)[:,:-1]\n",
    "print(\"The attributes are: \\n\",d1)\n",
    "\n",
    "# segragating the target that has positive and negative examples\n",
    "target1 = np.array(data1)[:,-1]\n",
    "print(\"The target is: \",target1)"
   ]
  },
  {
   "cell_type": "code",
   "execution_count": 5,
   "id": "5005c748",
   "metadata": {},
   "outputs": [
    {
     "name": "stdout",
     "output_type": "stream",
     "text": [
      "The attributes are: \n",
      " [['Some' 'Small' 'unavailabe' 'cheap' 'Many']\n",
      " ['Many' 'Big' 'unavailabe' 'expensive ' 'One']\n",
      " ['Some' 'Big' 'availabe' 'expensive ' 'Few']\n",
      " ['Many' 'Medium' 'unavailabe' 'expensive ' 'Many']\n",
      " ['Many' 'Small' 'unavailabe' 'cheap' 'Many']]\n",
      "The target is:  ['no' 'yes' 'no' 'yes' 'yes']\n"
     ]
    }
   ],
   "source": [
    "# For Dataset 2\n",
    "# Creating array of all the attributes \n",
    "d2 = np.array(data2)[:,:-1]\n",
    "print(\"The attributes are: \\n\",d2)\n",
    "\n",
    "#segragating the target that has positive and negative examples\n",
    "target2 = np.array(data2)[:,-1]\n",
    "print(\"The target is: \",target2)"
   ]
  },
  {
   "cell_type": "code",
   "execution_count": 6,
   "id": "f6226ca6",
   "metadata": {},
   "outputs": [],
   "source": [
    "#function for find-s algorithm\n",
    "def train(c,t):\n",
    "    specific_hypothesis = [list('φ'*len(c[0]))]\n",
    "    \n",
    "    for i, val in enumerate(t):\n",
    "        if val == \"Yes\" or val == \"yes\" :\n",
    "            specific_hypothesis = c[i].copy()\n",
    "            break\n",
    "             \n",
    "    for i, val in enumerate(c):\n",
    "        if t[i] == \"Yes\" or t[i] == \"yes\":\n",
    "            for x in range(len(specific_hypothesis)):\n",
    "                if val[x] != specific_hypothesis[x]:\n",
    "                    specific_hypothesis[x] = '?'\n",
    "                else:\n",
    "                    pass              \n",
    "    return specific_hypothesis"
   ]
  },
  {
   "cell_type": "code",
   "execution_count": 7,
   "id": "4e7b530b",
   "metadata": {},
   "outputs": [
    {
     "name": "stdout",
     "output_type": "stream",
     "text": [
      "The final hypothesis for dataset 1 is: ['?' 'warm' '?' 'strong' '?' '?']\n",
      "The final hypothesis for dataset 2 is: ['Many' '?' 'unavailabe' '?' '?']\n"
     ]
    }
   ],
   "source": [
    "#obtaining the final hypothesis\n",
    "print(\"The final hypothesis for dataset 1 is:\",train(d1,target1))\n",
    "print(\"The final hypothesis for dataset 2 is:\",train(d2,target2))"
   ]
  }
 ],
 "metadata": {
  "kernelspec": {
   "display_name": "Python 3 (ipykernel)",
   "language": "python",
   "name": "python3"
  },
  "language_info": {
   "codemirror_mode": {
    "name": "ipython",
    "version": 3
   },
   "file_extension": ".py",
   "mimetype": "text/x-python",
   "name": "python",
   "nbconvert_exporter": "python",
   "pygments_lexer": "ipython3",
   "version": "3.9.18"
  }
 },
 "nbformat": 4,
 "nbformat_minor": 5
}
