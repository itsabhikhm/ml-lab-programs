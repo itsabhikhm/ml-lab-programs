{
 "cells": [
  {
   "cell_type": "markdown",
   "id": "e61b0b16",
   "metadata": {},
   "source": [
    "### <p style=\"text-align: center;\">Practical 7</p>"
   ]
  },
  {
   "cell_type": "markdown",
   "id": "b37b88c1",
   "metadata": {},
   "source": [
    "#### <p style=\"text-align: center;\">Implementation of Gradient Descent Based Delta Learning Rule</p>"
   ]
  },
  {
   "cell_type": "markdown",
   "id": "846d3fb1",
   "metadata": {},
   "source": [
    "##### Importing Libraries"
   ]
  },
  {
   "cell_type": "code",
   "execution_count": 1,
   "id": "1874d9e3",
   "metadata": {},
   "outputs": [],
   "source": [
    "import pandas as pd\n",
    "import numpy as np\n",
    "import matplotlib.pyplot as plt\n",
    "from sklearn.metrics import mean_squared_error "
   ]
  },
  {
   "cell_type": "markdown",
   "id": "5706d3bc",
   "metadata": {},
   "source": [
    "##### Defining Inputs and Outputs"
   ]
  },
  {
   "cell_type": "code",
   "execution_count": 2,
   "id": "d5f89b9d",
   "metadata": {},
   "outputs": [],
   "source": [
    "x = np.array([1,2,4,3,5])\n",
    "y = np.array([1,3,3,2,5])"
   ]
  },
  {
   "cell_type": "markdown",
   "id": "687b7aa5",
   "metadata": {},
   "source": [
    "##### Defining Learning Rate and Iterations"
   ]
  },
  {
   "cell_type": "code",
   "execution_count": 3,
   "id": "0d91edf3",
   "metadata": {},
   "outputs": [],
   "source": [
    "eta = 0.01\n",
    "iterations = 1000"
   ]
  },
  {
   "cell_type": "markdown",
   "id": "c8ac2452",
   "metadata": {},
   "source": [
    "##### Delta Rule Function"
   ]
  },
  {
   "cell_type": "code",
   "execution_count": 4,
   "id": "327f3ec2",
   "metadata": {
    "scrolled": false
   },
   "outputs": [
    {
     "name": "stdout",
     "output_type": "stream",
     "text": [
      "W0 = 0.3999658894574383 \n",
      "W1 = 0.8000094480733253\n"
     ]
    }
   ],
   "source": [
    "def Delta(x,y,eta,iterations):\n",
    "   \n",
    "    # Initialize each Wi with a small random value\n",
    "#     w0 = np.random.rand()\n",
    "#     w1 = np.random.rand()\n",
    "    w0 = 0\n",
    "    w1 = 0\n",
    "    # Loop till Termination codition is met\n",
    "    for i in range(iterations):\n",
    "        del_w0 = 0 #initialize each del_w to 0\n",
    "        del_w1 = 0 #initialize each del_w to 0\n",
    "\n",
    "        # Loop for each <x,t> in training example\n",
    "        for i in range(len(x)):\n",
    "            Output = w0+w1*x[i] # Calculate O = ΣWiXi\n",
    "            del_w0 += eta*(y[i]-Output)  # Calculate ΔWi = ΔWi + η*(t - o)*Xi (X0 = 1)\n",
    "            del_w1 += eta*(y[i]-Output)*x[i]  # Calculate ΔWi = ΔWi + η*(t - o)*Xi\n",
    "\n",
    "        # Updating each Wi by Wi = wi + ΔWi\n",
    "        w0 = w0 + del_w0\n",
    "        w1 = w1 + del_w1\n",
    "        \n",
    "    return w0,w1\n",
    "    \n",
    "w0,w1 = Delta(x,y,eta,iterations)\n",
    "print(f\"W0 = {w0} \\nW1 = {w1}\")\n",
    "def predict(X,w0,w1):\n",
    "    return list(w0 + w1*X)"
   ]
  },
  {
   "cell_type": "markdown",
   "id": "e355ae17",
   "metadata": {},
   "source": [
    "##### Prediction for Test Sample 1"
   ]
  },
  {
   "cell_type": "code",
   "execution_count": 5,
   "id": "ec5e6070",
   "metadata": {
    "scrolled": true
   },
   "outputs": [
    {
     "data": {
      "text/plain": [
       "[1.1999753375307636,\n",
       " 1.9999847856040889,\n",
       " 3.6000036817507395,\n",
       " 2.799994233677414,\n",
       " 4.400013129824065]"
      ]
     },
     "execution_count": 5,
     "metadata": {},
     "output_type": "execute_result"
    }
   ],
   "source": [
    "x1 = np.array([1,2,4,3,5])\n",
    "y_pred1 = predict(x1,w0,w1)\n",
    "y_pred1"
   ]
  },
  {
   "cell_type": "code",
   "execution_count": 6,
   "id": "de38e232",
   "metadata": {},
   "outputs": [
    {
     "name": "stdout",
     "output_type": "stream",
     "text": [
      "RMSE 1 :  0.6928203231803919\n"
     ]
    }
   ],
   "source": [
    "# RMSE \n",
    "print(\"RMSE 1 : \",(mean_squared_error(y,y_pred1)**0.5))"
   ]
  },
  {
   "cell_type": "markdown",
   "id": "4e784d6a",
   "metadata": {},
   "source": [
    "##### Prediction for Test Sample 2"
   ]
  },
  {
   "cell_type": "code",
   "execution_count": 7,
   "id": "ca7b1bb9",
   "metadata": {},
   "outputs": [
    {
     "data": {
      "text/plain": [
       "[5.20002257789739,\n",
       " -0.40004355861588703,\n",
       " 4.800017853860727,\n",
       " 1.679981006374759,\n",
       " 2.1599866752187538]"
      ]
     },
     "execution_count": 7,
     "metadata": {},
     "output_type": "execute_result"
    }
   ],
   "source": [
    "x2 = np.array([6,-1,5.5,1.6,2.2])\n",
    "y_pred2 = predict(x2,w0,w1)\n",
    "y_pred2"
   ]
  },
  {
   "cell_type": "code",
   "execution_count": 8,
   "id": "d142d8d9",
   "metadata": {},
   "outputs": [
    {
     "name": "stdout",
     "output_type": "stream",
     "text": [
      "RMSE 2 :  2.8498644869806196\n"
     ]
    }
   ],
   "source": [
    "# RMSE \n",
    "print(\"RMSE 2 : \",(mean_squared_error(y,y_pred2)**0.5))"
   ]
  }
 ],
 "metadata": {
  "kernelspec": {
   "display_name": "Python 3 (ipykernel)",
   "language": "python",
   "name": "python3"
  },
  "language_info": {
   "codemirror_mode": {
    "name": "ipython",
    "version": 3
   },
   "file_extension": ".py",
   "mimetype": "text/x-python",
   "name": "python",
   "nbconvert_exporter": "python",
   "pygments_lexer": "ipython3",
   "version": "3.9.13"
  }
 },
 "nbformat": 4,
 "nbformat_minor": 5
}
