{
 "cells": [
  {
   "cell_type": "markdown",
   "id": "8677ce54",
   "metadata": {},
   "source": [
    "### <p style=\"text-align: center;\">Practical 5</p>"
   ]
  },
  {
   "cell_type": "markdown",
   "id": "3c4ff068",
   "metadata": {},
   "source": [
    "#### <p style=\"text-align: center;\">Implementation of C4.5 Decision Tree Classifier</p>"
   ]
  },
  {
   "cell_type": "code",
   "execution_count": 1,
   "id": "18b1568c",
   "metadata": {},
   "outputs": [],
   "source": [
    "import numpy as np\n",
    "import pandas as pd\n",
    "import pprint"
   ]
  },
  {
   "cell_type": "code",
   "execution_count": 2,
   "id": "45bb73d4",
   "metadata": {},
   "outputs": [],
   "source": [
    "df = pd.read_excel(\"datasets\\Lab 4 ML Dataset - ID3.xlsx\")"
   ]
  },
  {
   "cell_type": "markdown",
   "id": "8f3969d3",
   "metadata": {},
   "source": [
    "##### Entropy Function for whole DataFrame\n"
   ]
  },
  {
   "cell_type": "code",
   "execution_count": 3,
   "id": "081fcc51",
   "metadata": {},
   "outputs": [],
   "source": [
    "def find_entropy(df):\n",
    "    Class = df.keys()[-1]\n",
    "    values = df[Class].unique()\n",
    "    entropy = 0\n",
    "    for value in values:\n",
    "        prob = df[Class].value_counts()[value]/len(df[Class])\n",
    "        entropy += -prob * np.log2(prob)\n",
    "    return np.float64(entropy)"
   ]
  },
  {
   "cell_type": "markdown",
   "id": "bb775cd7",
   "metadata": {},
   "source": [
    "##### Entropy Function for specific Attribute"
   ]
  },
  {
   "cell_type": "code",
   "execution_count": 4,
   "id": "ae3e8189",
   "metadata": {},
   "outputs": [],
   "source": [
    "def find_entropy_attribute(df, attribute):\n",
    "    Class = df.keys()[-1]\n",
    "    target_values = df[Class].unique()\n",
    "    attribute_values = df[attribute].unique()\n",
    "    avg_entropy = 0\n",
    "    for value in attribute_values:\n",
    "        entropy = 0\n",
    "        for value1 in target_values:\n",
    "            num = len(df[attribute][df[attribute] == value][df[Class] == value1])\n",
    "            den = len(df[attribute][df[attribute] == value])\n",
    "            prob = num/den\n",
    "            entropy += -prob * np.log2(prob + 0.000001)\n",
    "        avg_entropy += (den/len(df))*entropy\n",
    "    return np.float64(avg_entropy)"
   ]
  },
  {
   "cell_type": "markdown",
   "id": "01c63d6a",
   "metadata": {},
   "source": [
    "##### Split Info"
   ]
  },
  {
   "cell_type": "code",
   "execution_count": 6,
   "id": "b90094bd",
   "metadata": {},
   "outputs": [],
   "source": [
    "def splitInfo(table,attribute):\n",
    "    counts = table[attribute].value_counts()\n",
    "    split_info = 0\n",
    "    for i in counts:\n",
    "        split_info = split_info + (i/ len(table)) * np.log2(i/ len(table))\n",
    "    return -1*(split_info + 0.00000001)"
   ]
  },
  {
   "cell_type": "markdown",
   "id": "d0ad585c",
   "metadata": {},
   "source": [
    "##### Find Winner (Finding Node with maximum IG)"
   ]
  },
  {
   "cell_type": "code",
   "execution_count": 7,
   "id": "5e61a647",
   "metadata": {},
   "outputs": [],
   "source": [
    "def find_winner(df):\n",
    "    GR = []\n",
    "    for key in df.keys()[:-1]:\n",
    "        gain = find_entropy(df) - find_entropy_attribute(df, key)\n",
    "        GR.append(gain/splitInfo(df,key))\n",
    "    return df.keys()[:-1][np.argmax(GR)]"
   ]
  },
  {
   "cell_type": "code",
   "execution_count": 8,
   "id": "34f36557",
   "metadata": {},
   "outputs": [],
   "source": [
    "def get_subtable(df, attribute, value):\n",
    "    return df[df[attribute] == value].reset_index(drop = True)"
   ]
  },
  {
   "cell_type": "markdown",
   "id": "93b04e33",
   "metadata": {},
   "source": [
    "##### Function To build The Tree"
   ]
  },
  {
   "cell_type": "code",
   "execution_count": 9,
   "id": "79a6a021",
   "metadata": {},
   "outputs": [],
   "source": [
    "def buildtree(df, tree = None):\n",
    "    node = find_winner(df) # Find Root Node\n",
    "    attvalue = np.unique(df[node]) #Find uinque values of the Current Node\n",
    "    Class = df.keys()[-1]\n",
    "    if tree is None:\n",
    "        tree = {}\n",
    "        tree[node] = {}\n",
    "    for value in attvalue:\n",
    "        subtable = get_subtable(df,node,value)\n",
    "        Clvalue, counts = np.unique(subtable[Class], return_counts = True)\n",
    "        if len(counts) == 1:\n",
    "            tree[node][value] = Clvalue[0]\n",
    "        else:\n",
    "            tree[node][value] = buildtree(subtable)\n",
    "    return tree"
   ]
  },
  {
   "cell_type": "markdown",
   "id": "3f752b71",
   "metadata": {},
   "source": [
    "##### Function To make Predictions\n"
   ]
  },
  {
   "cell_type": "code",
   "execution_count": 10,
   "id": "1a6ba8e2",
   "metadata": {},
   "outputs": [],
   "source": [
    "def predict(inst, tree):\n",
    "    for node in tree.keys():\n",
    "        value = inst[node]\n",
    "        tree = tree[node][value]\n",
    "        prediction = 0\n",
    "        if type(tree) is dict:\n",
    "            prediction = predict(inst, tree)\n",
    "        else:\n",
    "            prediction = tree\n",
    "    return prediction "
   ]
  },
  {
   "cell_type": "markdown",
   "id": "d2d83b7b",
   "metadata": {},
   "source": [
    "#### Building Tree"
   ]
  },
  {
   "cell_type": "code",
   "execution_count": 11,
   "id": "ea91dd28",
   "metadata": {},
   "outputs": [],
   "source": [
    "tree = buildtree(df)"
   ]
  },
  {
   "cell_type": "code",
   "execution_count": 12,
   "id": "80a03828",
   "metadata": {},
   "outputs": [
    {
     "name": "stdout",
     "output_type": "stream",
     "text": [
      "{'age': {'Midage': 'yes',\n",
      "         'senior': {'credit_rating': {'excellent': 'no', 'fair': 'yes'}},\n",
      "         'young': {'student': {'no': 'no', 'yes': 'yes'}}}}\n"
     ]
    }
   ],
   "source": [
    "pprint.pprint(tree)"
   ]
  },
  {
   "cell_type": "markdown",
   "id": "d6c9e9a6",
   "metadata": {},
   "source": [
    "#### Making Prediction"
   ]
  },
  {
   "cell_type": "code",
   "execution_count": 13,
   "id": "236136fe",
   "metadata": {},
   "outputs": [],
   "source": [
    "sample = [[\"young\",\"high\",\"yes\",\"excellent\"],\n",
    "          [\"Midage\",\"low\",\"no\",\"excellent\"]]\n",
    "df1 = pd.DataFrame(sample,columns = [\"age\",\"income\",\"student\",\"credit_rating\"])"
   ]
  },
  {
   "cell_type": "code",
   "execution_count": 14,
   "id": "3f5ceb1d",
   "metadata": {},
   "outputs": [
    {
     "data": {
      "text/html": [
       "<div>\n",
       "<style scoped>\n",
       "    .dataframe tbody tr th:only-of-type {\n",
       "        vertical-align: middle;\n",
       "    }\n",
       "\n",
       "    .dataframe tbody tr th {\n",
       "        vertical-align: top;\n",
       "    }\n",
       "\n",
       "    .dataframe thead th {\n",
       "        text-align: right;\n",
       "    }\n",
       "</style>\n",
       "<table border=\"1\" class=\"dataframe\">\n",
       "  <thead>\n",
       "    <tr style=\"text-align: right;\">\n",
       "      <th></th>\n",
       "      <th>age</th>\n",
       "      <th>income</th>\n",
       "      <th>student</th>\n",
       "      <th>credit_rating</th>\n",
       "    </tr>\n",
       "  </thead>\n",
       "  <tbody>\n",
       "    <tr>\n",
       "      <th>0</th>\n",
       "      <td>young</td>\n",
       "      <td>high</td>\n",
       "      <td>yes</td>\n",
       "      <td>excellent</td>\n",
       "    </tr>\n",
       "    <tr>\n",
       "      <th>1</th>\n",
       "      <td>Midage</td>\n",
       "      <td>low</td>\n",
       "      <td>no</td>\n",
       "      <td>excellent</td>\n",
       "    </tr>\n",
       "  </tbody>\n",
       "</table>\n",
       "</div>"
      ],
      "text/plain": [
       "      age income student credit_rating\n",
       "0   young   high     yes     excellent\n",
       "1  Midage    low      no     excellent"
      ]
     },
     "execution_count": 14,
     "metadata": {},
     "output_type": "execute_result"
    }
   ],
   "source": [
    "df1"
   ]
  },
  {
   "cell_type": "code",
   "execution_count": 15,
   "id": "3c71eeeb",
   "metadata": {},
   "outputs": [
    {
     "name": "stdout",
     "output_type": "stream",
     "text": [
      "['yes', 'yes']\n"
     ]
    }
   ],
   "source": [
    "Y_label = []\n",
    "for i in range(len(df1)):\n",
    "    inst = df1.iloc[i,:]\n",
    "    prediction = predict(inst, tree)\n",
    "    Y_label.append(prediction)\n",
    "print(Y_label)"
   ]
  }
 ],
 "metadata": {
  "kernelspec": {
   "display_name": "Python 3 (ipykernel)",
   "language": "python",
   "name": "python3"
  },
  "language_info": {
   "codemirror_mode": {
    "name": "ipython",
    "version": 3
   },
   "file_extension": ".py",
   "mimetype": "text/x-python",
   "name": "python",
   "nbconvert_exporter": "python",
   "pygments_lexer": "ipython3",
   "version": "3.9.13"
  }
 },
 "nbformat": 4,
 "nbformat_minor": 5
}
