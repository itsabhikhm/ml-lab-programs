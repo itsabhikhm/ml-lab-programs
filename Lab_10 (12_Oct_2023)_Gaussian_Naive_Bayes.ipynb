{
 "cells": [
  {
   "cell_type": "markdown",
   "id": "5572e5db",
   "metadata": {},
   "source": [
    "### <p style=\"text-align: center;\">Practical 10</p>\n",
    "#### <p style=\"text-align: center;\">Gaussian Naive Bayes'Classifier</p>"
   ]
  },
  {
   "cell_type": "code",
   "execution_count": 1,
   "id": "76d29ab4",
   "metadata": {},
   "outputs": [],
   "source": [
    "import pandas as pd\n",
    "import numpy as np\n",
    "import matplotlib.pyplot as plt\n",
    "import seaborn as sns\n",
    "import pprint"
   ]
  },
  {
   "cell_type": "code",
   "execution_count": 2,
   "id": "8c95c513",
   "metadata": {},
   "outputs": [],
   "source": [
    "data = pd.read_excel(\"datasets/Lab 10 ML Dataset - GNB classificer.xlsx\")"
   ]
  },
  {
   "cell_type": "code",
   "execution_count": 3,
   "id": "532a596f",
   "metadata": {
    "scrolled": true
   },
   "outputs": [
    {
     "data": {
      "text/html": [
       "<div>\n",
       "<style scoped>\n",
       "    .dataframe tbody tr th:only-of-type {\n",
       "        vertical-align: middle;\n",
       "    }\n",
       "\n",
       "    .dataframe tbody tr th {\n",
       "        vertical-align: top;\n",
       "    }\n",
       "\n",
       "    .dataframe thead th {\n",
       "        text-align: right;\n",
       "    }\n",
       "</style>\n",
       "<table border=\"1\" class=\"dataframe\">\n",
       "  <thead>\n",
       "    <tr style=\"text-align: right;\">\n",
       "      <th></th>\n",
       "      <th>Height</th>\n",
       "      <th>Weight</th>\n",
       "      <th>Foot Size</th>\n",
       "      <th>Person</th>\n",
       "    </tr>\n",
       "  </thead>\n",
       "  <tbody>\n",
       "    <tr>\n",
       "      <th>0</th>\n",
       "      <td>6.00</td>\n",
       "      <td>180</td>\n",
       "      <td>12</td>\n",
       "      <td>Male</td>\n",
       "    </tr>\n",
       "    <tr>\n",
       "      <th>1</th>\n",
       "      <td>5.92</td>\n",
       "      <td>190</td>\n",
       "      <td>11</td>\n",
       "      <td>Male</td>\n",
       "    </tr>\n",
       "    <tr>\n",
       "      <th>2</th>\n",
       "      <td>5.58</td>\n",
       "      <td>170</td>\n",
       "      <td>12</td>\n",
       "      <td>Male</td>\n",
       "    </tr>\n",
       "    <tr>\n",
       "      <th>3</th>\n",
       "      <td>5.92</td>\n",
       "      <td>165</td>\n",
       "      <td>10</td>\n",
       "      <td>Male</td>\n",
       "    </tr>\n",
       "    <tr>\n",
       "      <th>4</th>\n",
       "      <td>5.00</td>\n",
       "      <td>100</td>\n",
       "      <td>6</td>\n",
       "      <td>Female</td>\n",
       "    </tr>\n",
       "    <tr>\n",
       "      <th>5</th>\n",
       "      <td>5.50</td>\n",
       "      <td>150</td>\n",
       "      <td>8</td>\n",
       "      <td>Female</td>\n",
       "    </tr>\n",
       "    <tr>\n",
       "      <th>6</th>\n",
       "      <td>5.42</td>\n",
       "      <td>130</td>\n",
       "      <td>7</td>\n",
       "      <td>Female</td>\n",
       "    </tr>\n",
       "    <tr>\n",
       "      <th>7</th>\n",
       "      <td>5.75</td>\n",
       "      <td>150</td>\n",
       "      <td>9</td>\n",
       "      <td>Female</td>\n",
       "    </tr>\n",
       "  </tbody>\n",
       "</table>\n",
       "</div>"
      ],
      "text/plain": [
       "   Height  Weight  Foot Size  Person\n",
       "0    6.00     180         12    Male\n",
       "1    5.92     190         11    Male\n",
       "2    5.58     170         12    Male\n",
       "3    5.92     165         10    Male\n",
       "4    5.00     100          6  Female\n",
       "5    5.50     150          8  Female\n",
       "6    5.42     130          7  Female\n",
       "7    5.75     150          9  Female"
      ]
     },
     "execution_count": 3,
     "metadata": {},
     "output_type": "execute_result"
    }
   ],
   "source": [
    "data"
   ]
  },
  {
   "cell_type": "code",
   "execution_count": 4,
   "id": "c6d78b9c",
   "metadata": {},
   "outputs": [],
   "source": [
    "def calculateGuassian(x,mean,var):\n",
    "    exponent = np.exp(-((x - mean) ** 2 / (2 * var)))\n",
    "    return (1 / np.sqrt(2 * np.pi * var)) * exponent"
   ]
  },
  {
   "cell_type": "code",
   "execution_count": 7,
   "id": "7638a9e9",
   "metadata": {},
   "outputs": [],
   "source": [
    "def fit_gaussian_naive_bayes(df, target):\n",
    "    features = df.columns[:-1]\n",
    "    grouped = df.groupby(target)\n",
    "\n",
    "    # Calculate the mean and standard deviation for each feature\n",
    "    summary = {}\n",
    "    for name, group in grouped:\n",
    "        summary[name] = [(group[feature].mean(), group[feature].var(ddof=1)) for feature in features]\n",
    "    return summary"
   ]
  },
  {
   "cell_type": "code",
   "execution_count": 6,
   "id": "d2d2b9f1",
   "metadata": {},
   "outputs": [],
   "source": [
    "def predict(summary, input_data,df,target):\n",
    "    prior_probabilities = df[target].value_counts(normalize=True).to_dict()\n",
    "    probabilities = {}\n",
    "    for class_value, class_summary in summary.items():\n",
    "        probabilities[class_value] = prior_probabilities[class_value]\n",
    "        for i in range(len(class_summary)):\n",
    "            mean, var = class_summary[i]\n",
    "            x = input_data[i]\n",
    "            probabilities[class_value] *= calculateGuassian(x, mean, var)\n",
    "    print(probabilities)\n",
    "    return max(probabilities, key=probabilities.get)"
   ]
  },
  {
   "cell_type": "markdown",
   "id": "5ea74081",
   "metadata": {},
   "source": [
    "#### Fitting Model"
   ]
  },
  {
   "cell_type": "code",
   "execution_count": 8,
   "id": "275da174",
   "metadata": {},
   "outputs": [],
   "source": [
    "model = fit_gaussian_naive_bayes(data, 'Person')"
   ]
  },
  {
   "cell_type": "code",
   "execution_count": 9,
   "id": "e74f6ef3",
   "metadata": {},
   "outputs": [
    {
     "name": "stdout",
     "output_type": "stream",
     "text": [
      "{'Female': [(5.4175, 0.097225),\n",
      "            (132.5, 558.3333333333334),\n",
      "            (7.5, 1.6666666666666667)],\n",
      " 'Male': [(5.855, 0.03503333333333331),\n",
      "          (176.25, 122.91666666666667),\n",
      "          (11.25, 0.9166666666666666)]}\n"
     ]
    }
   ],
   "source": [
    "pprint.pprint(model)"
   ]
  },
  {
   "cell_type": "markdown",
   "id": "52070d0a",
   "metadata": {},
   "source": [
    "#### Making Predictions"
   ]
  },
  {
   "cell_type": "code",
   "execution_count": 10,
   "id": "31a0a633",
   "metadata": {},
   "outputs": [
    {
     "name": "stdout",
     "output_type": "stream",
     "text": [
      "{'Female': 0.0005377909183630023, 'Male': 6.197071843878083e-09}\n",
      "The data point belongs to: Female\n"
     ]
    }
   ],
   "source": [
    "new_data_point = [6, 130, 8]\n",
    "prediction = predict(model, new_data_point,data,'Person')\n",
    "print(f\"The data point belongs to: {prediction}\")"
   ]
  }
 ],
 "metadata": {
  "kernelspec": {
   "display_name": "Python 3 (ipykernel)",
   "language": "python",
   "name": "python3"
  },
  "language_info": {
   "codemirror_mode": {
    "name": "ipython",
    "version": 3
   },
   "file_extension": ".py",
   "mimetype": "text/x-python",
   "name": "python",
   "nbconvert_exporter": "python",
   "pygments_lexer": "ipython3",
   "version": "3.9.18"
  }
 },
 "nbformat": 4,
 "nbformat_minor": 5
}
