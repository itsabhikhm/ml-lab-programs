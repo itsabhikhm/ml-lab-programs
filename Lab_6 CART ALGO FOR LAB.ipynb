{
 "cells": [
  {
   "cell_type": "markdown",
   "id": "67377a95",
   "metadata": {},
   "source": [
    "### <p style=\"text-align: center;\">Practical 6</p>"
   ]
  },
  {
   "cell_type": "markdown",
   "id": "ef421246",
   "metadata": {},
   "source": [
    "#### <p style=\"text-align: center;\">Implementation of CART Decision Tree Classifier</p>"
   ]
  },
  {
   "cell_type": "code",
   "execution_count": 68,
   "id": "87e102cb",
   "metadata": {},
   "outputs": [],
   "source": [
    "import pandas as pd\n",
    "import numpy as np\n",
    "import pprint\n",
    "from collections import Counter"
   ]
  },
  {
   "cell_type": "code",
   "execution_count": 4,
   "id": "633193cf",
   "metadata": {
    "scrolled": false
   },
   "outputs": [
    {
     "data": {
      "text/html": [
       "<div>\n",
       "<style scoped>\n",
       "    .dataframe tbody tr th:only-of-type {\n",
       "        vertical-align: middle;\n",
       "    }\n",
       "\n",
       "    .dataframe tbody tr th {\n",
       "        vertical-align: top;\n",
       "    }\n",
       "\n",
       "    .dataframe thead th {\n",
       "        text-align: right;\n",
       "    }\n",
       "</style>\n",
       "<table border=\"1\" class=\"dataframe\">\n",
       "  <thead>\n",
       "    <tr style=\"text-align: right;\">\n",
       "      <th></th>\n",
       "      <th>age</th>\n",
       "      <th>income</th>\n",
       "      <th>student</th>\n",
       "      <th>credit_rating</th>\n",
       "      <th>Answer</th>\n",
       "    </tr>\n",
       "  </thead>\n",
       "  <tbody>\n",
       "    <tr>\n",
       "      <th>0</th>\n",
       "      <td>young</td>\n",
       "      <td>high</td>\n",
       "      <td>no</td>\n",
       "      <td>fair</td>\n",
       "      <td>no</td>\n",
       "    </tr>\n",
       "    <tr>\n",
       "      <th>1</th>\n",
       "      <td>young</td>\n",
       "      <td>high</td>\n",
       "      <td>no</td>\n",
       "      <td>excellent</td>\n",
       "      <td>no</td>\n",
       "    </tr>\n",
       "    <tr>\n",
       "      <th>2</th>\n",
       "      <td>Midage</td>\n",
       "      <td>high</td>\n",
       "      <td>no</td>\n",
       "      <td>fair</td>\n",
       "      <td>yes</td>\n",
       "    </tr>\n",
       "    <tr>\n",
       "      <th>3</th>\n",
       "      <td>senior</td>\n",
       "      <td>medium</td>\n",
       "      <td>no</td>\n",
       "      <td>fair</td>\n",
       "      <td>yes</td>\n",
       "    </tr>\n",
       "    <tr>\n",
       "      <th>4</th>\n",
       "      <td>senior</td>\n",
       "      <td>low</td>\n",
       "      <td>yes</td>\n",
       "      <td>fair</td>\n",
       "      <td>yes</td>\n",
       "    </tr>\n",
       "    <tr>\n",
       "      <th>5</th>\n",
       "      <td>senior</td>\n",
       "      <td>low</td>\n",
       "      <td>yes</td>\n",
       "      <td>excellent</td>\n",
       "      <td>no</td>\n",
       "    </tr>\n",
       "    <tr>\n",
       "      <th>6</th>\n",
       "      <td>Midage</td>\n",
       "      <td>low</td>\n",
       "      <td>yes</td>\n",
       "      <td>excellent</td>\n",
       "      <td>yes</td>\n",
       "    </tr>\n",
       "    <tr>\n",
       "      <th>7</th>\n",
       "      <td>young</td>\n",
       "      <td>medium</td>\n",
       "      <td>no</td>\n",
       "      <td>fair</td>\n",
       "      <td>no</td>\n",
       "    </tr>\n",
       "    <tr>\n",
       "      <th>8</th>\n",
       "      <td>young</td>\n",
       "      <td>low</td>\n",
       "      <td>yes</td>\n",
       "      <td>fair</td>\n",
       "      <td>yes</td>\n",
       "    </tr>\n",
       "    <tr>\n",
       "      <th>9</th>\n",
       "      <td>senior</td>\n",
       "      <td>medium</td>\n",
       "      <td>yes</td>\n",
       "      <td>fair</td>\n",
       "      <td>yes</td>\n",
       "    </tr>\n",
       "    <tr>\n",
       "      <th>10</th>\n",
       "      <td>young</td>\n",
       "      <td>medium</td>\n",
       "      <td>yes</td>\n",
       "      <td>excellent</td>\n",
       "      <td>yes</td>\n",
       "    </tr>\n",
       "    <tr>\n",
       "      <th>11</th>\n",
       "      <td>Midage</td>\n",
       "      <td>medium</td>\n",
       "      <td>no</td>\n",
       "      <td>excellent</td>\n",
       "      <td>yes</td>\n",
       "    </tr>\n",
       "    <tr>\n",
       "      <th>12</th>\n",
       "      <td>Midage</td>\n",
       "      <td>high</td>\n",
       "      <td>yes</td>\n",
       "      <td>fair</td>\n",
       "      <td>yes</td>\n",
       "    </tr>\n",
       "    <tr>\n",
       "      <th>13</th>\n",
       "      <td>senior</td>\n",
       "      <td>medium</td>\n",
       "      <td>no</td>\n",
       "      <td>excellent</td>\n",
       "      <td>no</td>\n",
       "    </tr>\n",
       "  </tbody>\n",
       "</table>\n",
       "</div>"
      ],
      "text/plain": [
       "       age  income student credit_rating Answer\n",
       "0    young    high      no          fair     no\n",
       "1    young    high      no     excellent     no\n",
       "2   Midage    high      no          fair    yes\n",
       "3   senior  medium      no          fair    yes\n",
       "4   senior     low     yes          fair    yes\n",
       "5   senior     low     yes     excellent     no\n",
       "6   Midage     low     yes     excellent    yes\n",
       "7    young  medium      no          fair     no\n",
       "8    young     low     yes          fair    yes\n",
       "9   senior  medium     yes          fair    yes\n",
       "10   young  medium     yes     excellent    yes\n",
       "11  Midage  medium      no     excellent    yes\n",
       "12  Midage    high     yes          fair    yes\n",
       "13  senior  medium      no     excellent     no"
      ]
     },
     "execution_count": 4,
     "metadata": {},
     "output_type": "execute_result"
    }
   ],
   "source": [
    "df = pd.read_excel('datasets/Lab 4 ML Dataset - ID3.xlsx')\n",
    "df"
   ]
  },
  {
   "cell_type": "code",
   "execution_count": 7,
   "id": "97da95f2",
   "metadata": {},
   "outputs": [],
   "source": [
    "X_train=df.iloc[:,:-1].values\n",
    "Y_train=df.iloc[:,-1].values"
   ]
  },
  {
   "cell_type": "code",
   "execution_count": 43,
   "id": "04882db7",
   "metadata": {},
   "outputs": [
    {
     "data": {
      "text/plain": [
       "array([['young', 'high', 'yes', 'excellent'],\n",
       "       ['Midage', 'low', 'no', 'excellent']], dtype=object)"
      ]
     },
     "execution_count": 43,
     "metadata": {},
     "output_type": "execute_result"
    }
   ],
   "source": [
    "test = {\n",
    "    'age': ['young', 'Midage'],\n",
    "    'income': ['high', 'low'],\n",
    "    'student': ['yes', 'no'],\n",
    "    'credit_rating': ['excellent', 'excellent']\n",
    "}\n",
    "test = pd.DataFrame(X_test)\n",
    "X_test = test.values\n",
    "X_test"
   ]
  },
  {
   "cell_type": "code",
   "execution_count": 8,
   "id": "adf64100",
   "metadata": {},
   "outputs": [
    {
     "name": "stdout",
     "output_type": "stream",
     "text": [
      "[0 0 1 1 1 0 1 0 1 1 1 1 1 0]\n"
     ]
    }
   ],
   "source": [
    "ytrain=[]\n",
    "for i in Y_train:\n",
    "  if i=='yes':\n",
    "    ytrain.append(1)\n",
    "  else:\n",
    "    ytrain.append(0)\n",
    "ytrain=np.array(ytrain)\n",
    "print(ytrain)\n"
   ]
  },
  {
   "cell_type": "code",
   "execution_count": 69,
   "id": "e9776038",
   "metadata": {},
   "outputs": [],
   "source": [
    "class DecisionTree:\n",
    "    def __init__(self, max_depth=None):\n",
    "        self.max_depth = max_depth\n",
    "        self.tree = None\n",
    "\n",
    "    def fit(self, X, y, depth=0):\n",
    "        if depth == 0:\n",
    "            self.classes = np.unique(y)\n",
    "        if (self.max_depth is not None and depth >= self.max_depth) or np.all(y == y[0]):\n",
    "#             print(f\"Reached leaf node with class {y[0]}\")\n",
    "            return self.classes[np.argmax(np.bincount(y))]\n",
    "\n",
    "        best_split = self.find_best_split(X, y)\n",
    "        if best_split is None:\n",
    "#             print(\"No further split is possible.\")\n",
    "            return self.classes[np.argmax(np.bincount(y))]\n",
    "\n",
    "        feature_idx, threshold = best_split\n",
    "#         print(f\"Splitting on feature {feature_idx} with value {threshold}\")\n",
    "        sub_tree = {f\"X{feature_idx} = {threshold}\": {}, f\"noX{feature_idx} = {threshold}\": {}}\n",
    "        X_left, y_left, X_right, y_right = self.split_data(X, y, feature_idx, threshold)\n",
    "\n",
    "        sub_tree[f\"X{feature_idx} = {threshold}\"] = self.fit(X_left, y_left, depth + 1)\n",
    "        sub_tree[f\"noX{feature_idx} = {threshold}\"] = self.fit(X_right, y_right, depth + 1)\n",
    "\n",
    "        return sub_tree\n",
    "\n",
    "    def find_best_split(self, X, y):\n",
    "        num_samples, num_features = X.shape\n",
    "        if num_samples <= 1:\n",
    "            return None\n",
    "\n",
    "        gini_parent = self.calculate_gini(y)\n",
    "        best_ginich = 0\n",
    "        best_split = None\n",
    "\n",
    "        for feature_idx in range(num_features):\n",
    "            unique_values = np.unique(X[:, feature_idx])\n",
    "            for threshold in unique_values:\n",
    "                X_left, y_left, X_right, y_right = self.split_data(X, y, feature_idx, threshold)\n",
    "                if len(y_left) == 0 or len(y_right) == 0:\n",
    "                    continue\n",
    "\n",
    "                gini_left = self.calculate_gini(y_left)\n",
    "                gini_right = self.calculate_gini(y_right)\n",
    "                gini_change = gini_parent - (len(y_left) / num_samples * gini_left + len(y_right) / num_samples * gini_right)\n",
    "\n",
    "                if gini_change > best_ginich:\n",
    "                    best_ginich = gini_change\n",
    "                    best_split = (feature_idx, threshold)\n",
    "\n",
    "        return best_split\n",
    "\n",
    "    def split_data(self, X, y, feature_idx, threshold):\n",
    "        X_left = X[X[:, feature_idx] == threshold]\n",
    "        y_left = y[X[:, feature_idx] == threshold]\n",
    "        X_right = X[X[:, feature_idx] != threshold]\n",
    "        y_right = y[X[:, feature_idx] != threshold]\n",
    "        return X_left, y_left, X_right, y_right\n",
    "\n",
    "    def calculate_gini(self, y):\n",
    "        if len(y) == 0:\n",
    "            return 0\n",
    "        class_counts = Counter(y)\n",
    "        num_samples = len(y)\n",
    "        entropy = 1-sum((count / num_samples)**2 for count in class_counts.values())\n",
    "        return entropy\n",
    "\n",
    "\n",
    "    def predict(self, X, tree):\n",
    "        if isinstance(tree, np.ndarray):\n",
    "            return tree\n",
    "        if isinstance(tree, dict):\n",
    "\n",
    "                condition=list(tree.keys())[0]\n",
    "                feature_idx, threshold = map(str.strip, condition.split(\"X\")[1].split(\"=\"))\n",
    "                feature_idx = int(feature_idx)\n",
    "\n",
    "                if X[feature_idx] == threshold:\n",
    "\n",
    "                    return self.predict(X, tree[f\"X{feature_idx} = {threshold}\"])\n",
    "                else:\n",
    "\n",
    "                    return self.predict(X, tree[f\"noX{feature_idx} = {threshold}\"])\n",
    "        else:\n",
    "            return tree\n",
    "\n",
    "    def fit_predict(self, X_train, y_train, X_test):\n",
    "        self.tree = self.fit(X_train, y_train)\n",
    "        pprint.pprint(self.tree)\n",
    "        train_predictions = [self.predict(x, self.tree) for x in X_train]\n",
    "        test_predictions = [self.predict(x, self.tree) for x in X_test]\n",
    "        return train_predictions, test_predictions"
   ]
  },
  {
   "cell_type": "code",
   "execution_count": 71,
   "id": "7e57d224",
   "metadata": {},
   "outputs": [],
   "source": [
    "# Building Tree"
   ]
  },
  {
   "cell_type": "code",
   "execution_count": 72,
   "id": "0306f85e",
   "metadata": {},
   "outputs": [
    {
     "name": "stdout",
     "output_type": "stream",
     "text": [
      "{'X0 = Midage': 1,\n",
      " 'noX0 = Midage': {'X2 = no': {'X0 = senior': {'X3 = excellent': 0,\n",
      "                                               'noX3 = excellent': 1},\n",
      "                               'noX0 = senior': 0},\n",
      "                   'noX2 = no': {'X3 = excellent': {'X0 = senior': 0,\n",
      "                                                    'noX0 = senior': 1},\n",
      "                                 'noX3 = excellent': 1}}}\n"
     ]
    }
   ],
   "source": [
    "decision_tree = DecisionTree(max_depth=8)\n",
    "train_predictions, test_predictions = decision_tree.fit_predict(X_train, ytrain, X_test)"
   ]
  },
  {
   "cell_type": "code",
   "execution_count": 75,
   "id": "ea3c07ec",
   "metadata": {},
   "outputs": [
    {
     "name": "stdout",
     "output_type": "stream",
     "text": [
      "[1, 1]\n"
     ]
    }
   ],
   "source": [
    "# Prdeiction\n",
    "print(test_predictions)"
   ]
  }
 ],
 "metadata": {
  "kernelspec": {
   "display_name": "Python 3 (ipykernel)",
   "language": "python",
   "name": "python3"
  },
  "language_info": {
   "codemirror_mode": {
    "name": "ipython",
    "version": 3
   },
   "file_extension": ".py",
   "mimetype": "text/x-python",
   "name": "python",
   "nbconvert_exporter": "python",
   "pygments_lexer": "ipython3",
   "version": "3.9.13"
  }
 },
 "nbformat": 4,
 "nbformat_minor": 5
}
