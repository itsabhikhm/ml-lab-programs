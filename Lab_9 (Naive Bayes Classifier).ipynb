{
 "cells": [
  {
   "cell_type": "markdown",
   "id": "c58e480e",
   "metadata": {},
   "source": [
    "### <p style=\"text-align: center;\">Practical 9</p>\n",
    "#### <p style=\"text-align: center;\">Naive Bayes'Classifier</p>"
   ]
  },
  {
   "cell_type": "markdown",
   "id": "5da1a565",
   "metadata": {},
   "source": [
    "### Naive Bayes'"
   ]
  },
  {
   "cell_type": "markdown",
   "id": "bdf91d36",
   "metadata": {},
   "source": [
    "##### Importing Libraries and dataset"
   ]
  },
  {
   "cell_type": "code",
   "execution_count": 1,
   "id": "5b8a9c73",
   "metadata": {},
   "outputs": [],
   "source": [
    "import pandas as pd\n",
    "import numpy as np\n",
    "import matplotlib.pyplot as plt"
   ]
  },
  {
   "cell_type": "code",
   "execution_count": 2,
   "id": "94bf70b2",
   "metadata": {},
   "outputs": [],
   "source": [
    "tennis=pd.read_csv(\"datasets/playTennis.csv\")"
   ]
  },
  {
   "cell_type": "code",
   "execution_count": 3,
   "id": "aace57c1",
   "metadata": {
    "scrolled": false
   },
   "outputs": [
    {
     "data": {
      "text/html": [
       "<div>\n",
       "<style scoped>\n",
       "    .dataframe tbody tr th:only-of-type {\n",
       "        vertical-align: middle;\n",
       "    }\n",
       "\n",
       "    .dataframe tbody tr th {\n",
       "        vertical-align: top;\n",
       "    }\n",
       "\n",
       "    .dataframe thead th {\n",
       "        text-align: right;\n",
       "    }\n",
       "</style>\n",
       "<table border=\"1\" class=\"dataframe\">\n",
       "  <thead>\n",
       "    <tr style=\"text-align: right;\">\n",
       "      <th></th>\n",
       "      <th>Outlook</th>\n",
       "      <th>Temperature</th>\n",
       "      <th>Humidity</th>\n",
       "      <th>Wind</th>\n",
       "      <th>Play Tennis</th>\n",
       "    </tr>\n",
       "  </thead>\n",
       "  <tbody>\n",
       "    <tr>\n",
       "      <th>0</th>\n",
       "      <td>Sunny</td>\n",
       "      <td>Hot</td>\n",
       "      <td>High</td>\n",
       "      <td>Weak</td>\n",
       "      <td>No</td>\n",
       "    </tr>\n",
       "    <tr>\n",
       "      <th>1</th>\n",
       "      <td>Sunny</td>\n",
       "      <td>Hot</td>\n",
       "      <td>High</td>\n",
       "      <td>Strong</td>\n",
       "      <td>No</td>\n",
       "    </tr>\n",
       "    <tr>\n",
       "      <th>2</th>\n",
       "      <td>Overcast</td>\n",
       "      <td>Hot</td>\n",
       "      <td>High</td>\n",
       "      <td>Weak</td>\n",
       "      <td>Yes</td>\n",
       "    </tr>\n",
       "    <tr>\n",
       "      <th>3</th>\n",
       "      <td>Rain</td>\n",
       "      <td>Mild</td>\n",
       "      <td>High</td>\n",
       "      <td>Weak</td>\n",
       "      <td>Yes</td>\n",
       "    </tr>\n",
       "    <tr>\n",
       "      <th>4</th>\n",
       "      <td>Rain</td>\n",
       "      <td>Cool</td>\n",
       "      <td>Normal</td>\n",
       "      <td>Weak</td>\n",
       "      <td>Yes</td>\n",
       "    </tr>\n",
       "    <tr>\n",
       "      <th>5</th>\n",
       "      <td>Rain</td>\n",
       "      <td>Cool</td>\n",
       "      <td>Normal</td>\n",
       "      <td>Strong</td>\n",
       "      <td>No</td>\n",
       "    </tr>\n",
       "    <tr>\n",
       "      <th>6</th>\n",
       "      <td>Overcast</td>\n",
       "      <td>Cool</td>\n",
       "      <td>Normal</td>\n",
       "      <td>Strong</td>\n",
       "      <td>Yes</td>\n",
       "    </tr>\n",
       "    <tr>\n",
       "      <th>7</th>\n",
       "      <td>Sunny</td>\n",
       "      <td>Mild</td>\n",
       "      <td>High</td>\n",
       "      <td>Weak</td>\n",
       "      <td>No</td>\n",
       "    </tr>\n",
       "    <tr>\n",
       "      <th>8</th>\n",
       "      <td>Sunny</td>\n",
       "      <td>Cool</td>\n",
       "      <td>Normal</td>\n",
       "      <td>Weak</td>\n",
       "      <td>Yes</td>\n",
       "    </tr>\n",
       "    <tr>\n",
       "      <th>9</th>\n",
       "      <td>Rain</td>\n",
       "      <td>Mild</td>\n",
       "      <td>Normal</td>\n",
       "      <td>Weak</td>\n",
       "      <td>Yes</td>\n",
       "    </tr>\n",
       "    <tr>\n",
       "      <th>10</th>\n",
       "      <td>Sunny</td>\n",
       "      <td>Mild</td>\n",
       "      <td>Normal</td>\n",
       "      <td>Strong</td>\n",
       "      <td>Yes</td>\n",
       "    </tr>\n",
       "    <tr>\n",
       "      <th>11</th>\n",
       "      <td>Overcast</td>\n",
       "      <td>Mild</td>\n",
       "      <td>High</td>\n",
       "      <td>Strong</td>\n",
       "      <td>Yes</td>\n",
       "    </tr>\n",
       "    <tr>\n",
       "      <th>12</th>\n",
       "      <td>Overcast</td>\n",
       "      <td>Hot</td>\n",
       "      <td>Normal</td>\n",
       "      <td>Weak</td>\n",
       "      <td>Yes</td>\n",
       "    </tr>\n",
       "    <tr>\n",
       "      <th>13</th>\n",
       "      <td>Rain</td>\n",
       "      <td>Mild</td>\n",
       "      <td>High</td>\n",
       "      <td>Strong</td>\n",
       "      <td>No</td>\n",
       "    </tr>\n",
       "  </tbody>\n",
       "</table>\n",
       "</div>"
      ],
      "text/plain": [
       "     Outlook Temperature Humidity    Wind Play Tennis\n",
       "0      Sunny         Hot     High    Weak          No\n",
       "1      Sunny         Hot     High  Strong          No\n",
       "2   Overcast         Hot     High    Weak         Yes\n",
       "3       Rain        Mild     High    Weak         Yes\n",
       "4       Rain        Cool   Normal    Weak         Yes\n",
       "5       Rain        Cool   Normal  Strong          No\n",
       "6   Overcast        Cool   Normal  Strong         Yes\n",
       "7      Sunny        Mild     High    Weak          No\n",
       "8      Sunny        Cool   Normal    Weak         Yes\n",
       "9       Rain        Mild   Normal    Weak         Yes\n",
       "10     Sunny        Mild   Normal  Strong         Yes\n",
       "11  Overcast        Mild     High  Strong         Yes\n",
       "12  Overcast         Hot   Normal    Weak         Yes\n",
       "13      Rain        Mild     High  Strong          No"
      ]
     },
     "execution_count": 3,
     "metadata": {},
     "output_type": "execute_result"
    }
   ],
   "source": [
    "tennis"
   ]
  },
  {
   "cell_type": "markdown",
   "id": "6c95635e",
   "metadata": {},
   "source": [
    "##### Defining Functions"
   ]
  },
  {
   "cell_type": "code",
   "execution_count": 31,
   "id": "4cf99857",
   "metadata": {},
   "outputs": [],
   "source": [
    "def naiveBayes(df,example):\n",
    "    #Defining Values to handle Zero Probability\n",
    "    K = 1\n",
    "\n",
    "    # Calculating Prior Probabilities\n",
    "    prior_yes = df[df[df.keys()[-1]]=='Yes'].iloc[:,-1].count() / df.iloc[:,-1].value_counts().sum()\n",
    "    prior_no = df[df[df.keys()[-1]]=='No'].iloc[:,-1].count() / df.iloc[:,-1].value_counts().sum()\n",
    "\n",
    "    columns = df.keys()\n",
    "\n",
    "    # for Yes Class________________________________________________________________________________________________\n",
    "    likelihood_yes = 1\n",
    "    for i in range(len(example)):\n",
    "      try:\n",
    "        temp1 =(df[df[columns[i]] == example[i]].iloc[:,-1].value_counts()['Yes'])/(df.iloc[:,-1].value_counts()['Yes'])\n",
    "      except:\n",
    "        #Handle 0 Probability for yes class Here\n",
    "        print(f\"Zero Probability Error Occured for Yes class,Performing Laplace Smooting with K = {K}\")\n",
    "        temp1 =(0+K)/((df.iloc[:,-1].value_counts()['Yes'])+K*len(df[columns[i]].unique()))\n",
    "      finally:\n",
    "        likelihood_yes = likelihood_yes * temp1\n",
    "\n",
    "    # for No class_________________________________________________________________________________________________\n",
    "    likelihood_no = 1\n",
    "    for i in range(len(example)):\n",
    "      try:\n",
    "        temp2 = (df[df[columns[i]] == example[i]].iloc[:,-1].value_counts()['No'])/(df.iloc[:,-1].value_counts()['No'])\n",
    "      except:\n",
    "        #Handle 0 Probability for no class Here\n",
    "        print(f\"Zero Probability Error Occured for No class,Performing Laplace Smooting with K = {K}\")\n",
    "        temp2 = (0+K)/((df.iloc[:,-1].value_counts()['No'])+K*len(df[columns[i]].unique()))\n",
    "      finally:\n",
    "        likelihood_no = likelihood_no * temp2\n",
    "\n",
    "    return [(likelihood_yes*prior_yes).round(6),(likelihood_no*prior_no).round(6)]"
   ]
  },
  {
   "cell_type": "code",
   "execution_count": 18,
   "id": "ab15f80b",
   "metadata": {},
   "outputs": [],
   "source": [
    "def predict(df,example):\n",
    "    p_yes_given_example,p_no_given_example = naiveBayes(df,example)\n",
    "    print(f\"P(Yes|new_example) : {p_yes_given_example}\")\n",
    "    print(f\"P(No|new_example) : {p_no_given_example}\")\n",
    "    if(p_yes_given_example > p_no_given_example):\n",
    "        return 'Yes'\n",
    "    else: \n",
    "        return 'No'"
   ]
  },
  {
   "cell_type": "markdown",
   "id": "6e6d928a",
   "metadata": {},
   "source": [
    "##### Making Predictions"
   ]
  },
  {
   "cell_type": "code",
   "execution_count": 30,
   "id": "d6788aae",
   "metadata": {
    "scrolled": false
   },
   "outputs": [
    {
     "name": "stdout",
     "output_type": "stream",
     "text": [
      "P(Yes|new_example) : 0.005291\n",
      "P(No|new_example) : 0.020571\n",
      "The Predicted Class for the training example ['Sunny', 'Cool', 'High', 'Strong'] is : No\n",
      "***********************************************************************************************\n",
      "Zero Probability Error Occured for No class,Performing Laplace Smooting with K = 1\n",
      "P(Yes|new_example) : 0.010582\n",
      "P(No|new_example) : 0.004286\n",
      "The Predicted Class for the training example ['Overcast', 'Cool', 'High', 'Strong'] is : Yes\n"
     ]
    }
   ],
   "source": [
    "new_example = ['Sunny', 'Cool', 'High', 'Strong']\n",
    "new_example2 = ['Overcast', 'Cool', 'High', 'Strong']\n",
    "Prediction = predict(tennis,new_example)\n",
    "print(f\"The Predicted Class for the training example {new_example} is :\",Prediction)\n",
    "print(\"***********************************************************************************************\")\n",
    "Prediction2 = predict(tennis,new_example2)\n",
    "print(f\"The Predicted Class for the training example {new_example2} is :\",Prediction2)"
   ]
  }
 ],
 "metadata": {
  "kernelspec": {
   "display_name": "Python 3 (ipykernel)",
   "language": "python",
   "name": "python3"
  },
  "language_info": {
   "codemirror_mode": {
    "name": "ipython",
    "version": 3
   },
   "file_extension": ".py",
   "mimetype": "text/x-python",
   "name": "python",
   "nbconvert_exporter": "python",
   "pygments_lexer": "ipython3",
   "version": "3.9.13"
  }
 },
 "nbformat": 4,
 "nbformat_minor": 5
}
