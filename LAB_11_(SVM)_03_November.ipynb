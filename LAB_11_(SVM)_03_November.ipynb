{
 "cells": [
  {
   "cell_type": "markdown",
   "metadata": {},
   "source": [
    "### <p style=\"text-align: center;\">Practical 11</p>\n",
    "#### <p style=\"text-align: center;\">Implementation of Support Vector Machine Classifier(SVM) </p>"
   ]
  },
  {
   "cell_type": "markdown",
   "metadata": {},
   "source": [
    "##### Importing Libraries"
   ]
  },
  {
   "cell_type": "code",
   "execution_count": 1,
   "metadata": {
    "id": "ER8yryGIVlST"
   },
   "outputs": [],
   "source": [
    "import pandas as pd\n",
    "import numpy as np\n",
    "import pprint\n",
    "import matplotlib.pyplot as plt"
   ]
  },
  {
   "cell_type": "code",
   "execution_count": 2,
   "metadata": {
    "id": "NuKbRIOBV-ZE"
   },
   "outputs": [],
   "source": [
    "data = pd.read_excel('datasets/Lab 11 ML Dataset - SVM.xlsx')"
   ]
  },
  {
   "cell_type": "code",
   "execution_count": 3,
   "metadata": {
    "colab": {
     "base_uri": "https://localhost:8080/",
     "height": 551
    },
    "id": "vXerG8AHXJ94",
    "outputId": "d4922c2c-0456-4063-f76b-80e4df0de72f"
   },
   "outputs": [
    {
     "data": {
      "text/html": [
       "<div>\n",
       "<style scoped>\n",
       "    .dataframe tbody tr th:only-of-type {\n",
       "        vertical-align: middle;\n",
       "    }\n",
       "\n",
       "    .dataframe tbody tr th {\n",
       "        vertical-align: top;\n",
       "    }\n",
       "\n",
       "    .dataframe thead th {\n",
       "        text-align: right;\n",
       "    }\n",
       "</style>\n",
       "<table border=\"1\" class=\"dataframe\">\n",
       "  <thead>\n",
       "    <tr style=\"text-align: right;\">\n",
       "      <th></th>\n",
       "      <th>Unnamed: 0</th>\n",
       "      <th>training data</th>\n",
       "      <th>Unnamed: 2</th>\n",
       "      <th>Unnamed: 3</th>\n",
       "    </tr>\n",
       "  </thead>\n",
       "  <tbody>\n",
       "    <tr>\n",
       "      <th>0</th>\n",
       "      <td>NaN</td>\n",
       "      <td>NaN</td>\n",
       "      <td>NaN</td>\n",
       "      <td>NaN</td>\n",
       "    </tr>\n",
       "    <tr>\n",
       "      <th>1</th>\n",
       "      <td>Sl.No.</td>\n",
       "      <td>X1</td>\n",
       "      <td>X2</td>\n",
       "      <td>Class</td>\n",
       "    </tr>\n",
       "    <tr>\n",
       "      <th>2</th>\n",
       "      <td>1</td>\n",
       "      <td>3</td>\n",
       "      <td>1</td>\n",
       "      <td>1</td>\n",
       "    </tr>\n",
       "    <tr>\n",
       "      <th>3</th>\n",
       "      <td>2</td>\n",
       "      <td>3</td>\n",
       "      <td>-1</td>\n",
       "      <td>1</td>\n",
       "    </tr>\n",
       "    <tr>\n",
       "      <th>4</th>\n",
       "      <td>3</td>\n",
       "      <td>6</td>\n",
       "      <td>1</td>\n",
       "      <td>1</td>\n",
       "    </tr>\n",
       "    <tr>\n",
       "      <th>5</th>\n",
       "      <td>4</td>\n",
       "      <td>6</td>\n",
       "      <td>-1</td>\n",
       "      <td>1</td>\n",
       "    </tr>\n",
       "  </tbody>\n",
       "</table>\n",
       "</div>"
      ],
      "text/plain": [
       "  Unnamed: 0 training data Unnamed: 2 Unnamed: 3\n",
       "0        NaN           NaN        NaN        NaN\n",
       "1     Sl.No.            X1         X2      Class\n",
       "2          1             3          1          1\n",
       "3          2             3         -1          1\n",
       "4          3             6          1          1\n",
       "5          4             6         -1          1"
      ]
     },
     "execution_count": 3,
     "metadata": {},
     "output_type": "execute_result"
    }
   ],
   "source": [
    "data.head(6)"
   ]
  },
  {
   "cell_type": "markdown",
   "metadata": {},
   "source": [
    "##### Importing Dataset"
   ]
  },
  {
   "cell_type": "code",
   "execution_count": 4,
   "metadata": {
    "colab": {
     "base_uri": "https://localhost:8080/",
     "height": 300
    },
    "id": "mjIWLv3SXQbQ",
    "outputId": "68adc879-09d7-4c6e-e6f4-2762026fe1ec"
   },
   "outputs": [
    {
     "data": {
      "text/html": [
       "<div>\n",
       "<style scoped>\n",
       "    .dataframe tbody tr th:only-of-type {\n",
       "        vertical-align: middle;\n",
       "    }\n",
       "\n",
       "    .dataframe tbody tr th {\n",
       "        vertical-align: top;\n",
       "    }\n",
       "\n",
       "    .dataframe thead th {\n",
       "        text-align: right;\n",
       "    }\n",
       "</style>\n",
       "<table border=\"1\" class=\"dataframe\">\n",
       "  <thead>\n",
       "    <tr style=\"text-align: right;\">\n",
       "      <th></th>\n",
       "      <th>X1</th>\n",
       "      <th>X2</th>\n",
       "      <th>Class</th>\n",
       "    </tr>\n",
       "  </thead>\n",
       "  <tbody>\n",
       "    <tr>\n",
       "      <th>0</th>\n",
       "      <td>3</td>\n",
       "      <td>1</td>\n",
       "      <td>1</td>\n",
       "    </tr>\n",
       "    <tr>\n",
       "      <th>1</th>\n",
       "      <td>3</td>\n",
       "      <td>-1</td>\n",
       "      <td>1</td>\n",
       "    </tr>\n",
       "    <tr>\n",
       "      <th>2</th>\n",
       "      <td>6</td>\n",
       "      <td>1</td>\n",
       "      <td>1</td>\n",
       "    </tr>\n",
       "    <tr>\n",
       "      <th>3</th>\n",
       "      <td>6</td>\n",
       "      <td>-1</td>\n",
       "      <td>1</td>\n",
       "    </tr>\n",
       "    <tr>\n",
       "      <th>4</th>\n",
       "      <td>1</td>\n",
       "      <td>0</td>\n",
       "      <td>-1</td>\n",
       "    </tr>\n",
       "    <tr>\n",
       "      <th>5</th>\n",
       "      <td>0</td>\n",
       "      <td>1</td>\n",
       "      <td>-1</td>\n",
       "    </tr>\n",
       "    <tr>\n",
       "      <th>6</th>\n",
       "      <td>0</td>\n",
       "      <td>-1</td>\n",
       "      <td>-1</td>\n",
       "    </tr>\n",
       "    <tr>\n",
       "      <th>7</th>\n",
       "      <td>-1</td>\n",
       "      <td>0</td>\n",
       "      <td>-1</td>\n",
       "    </tr>\n",
       "  </tbody>\n",
       "</table>\n",
       "</div>"
      ],
      "text/plain": [
       "   X1  X2 Class\n",
       "0   3   1     1\n",
       "1   3  -1     1\n",
       "2   6   1     1\n",
       "3   6  -1     1\n",
       "4   1   0    -1\n",
       "5   0   1    -1\n",
       "6   0  -1    -1\n",
       "7  -1   0    -1"
      ]
     },
     "execution_count": 4,
     "metadata": {},
     "output_type": "execute_result"
    }
   ],
   "source": [
    "df = data.iloc[2:10,1:]\n",
    "df.columns = ['X1','X2','Class']\n",
    "df.reset_index(drop = True,inplace = True)\n",
    "df.head(10)"
   ]
  },
  {
   "cell_type": "markdown",
   "metadata": {},
   "source": [
    "##### Defining functions"
   ]
  },
  {
   "cell_type": "code",
   "execution_count": 5,
   "metadata": {
    "id": "6nK8ZBv2ZPpq"
   },
   "outputs": [],
   "source": [
    "def plot_classes(data,w):\n",
    "  plt.figure(figsize=(5,3))  \n",
    "  inputs = df.iloc[:,:-1]\n",
    "  target = df.iloc[:,-1]\n",
    "  for i in range(len(data)):\n",
    "    if(target[i]==1):\n",
    "      plt.scatter(inputs['X1'][i],inputs['X2'][i],marker='+',c='r')\n",
    "    else:\n",
    "      plt.scatter(inputs['X1'][i],inputs['X2'][i],marker='o',c='b')\n",
    "  if(len(w)!=0):\n",
    "    b = w[2]\n",
    "    x_coordinate = -b/w[0]\n",
    "    plt.axvline(x=x_coordinate, color='red', linestyle='--')\n",
    "    # plt.plot([-1*w[2],0],[0,0])\n",
    "  plt.show()"
   ]
  },
  {
   "cell_type": "code",
   "execution_count": 6,
   "metadata": {
    "id": "MsaP8ZiFfSth"
   },
   "outputs": [],
   "source": [
    "def SVM(data):\n",
    "\n",
    "  w = []\n",
    "  # Step 1 : Plot The graph\n",
    "  plot_classes(data,w)\n",
    "\n",
    "  # Step 2 : Assume Support Vectors From Each Class (Take Inputs) & Also take input for their class\n",
    "#   s = [[1, 0], [3, 1], [3, -1]]\n",
    "#   vector_class = [-1,1,1]\n",
    "\n",
    "  s = []\n",
    "  vector_class = []\n",
    "\n",
    "  for i in range(3):\n",
    "    temp_vector = list(map(int,input(f\"Enter Support Vector {i+1}: \").strip().split()))\n",
    "    s.append(temp_vector)\n",
    "    vector_class.append(int(input(f\"Enter the class to which Vector {i+1} belongs :\")))\n",
    "\n",
    "  # Step 3 : Augment Each Support Vector with bias +1\n",
    "  for i in range(3):\n",
    "    s[i].append(1)\n",
    "\n",
    "  # Step 4 : Find α1,α2,α3\n",
    "\n",
    "  A = [[np.dot(s[0],s[0]),np.dot(s[1],s[0]),np.dot(s[2],s[0])],\n",
    "       [np.dot(s[0],s[1]),np.dot(s[1],s[1]),np.dot(s[2],s[1])],\n",
    "       [np.dot(s[0],s[2]),np.dot(s[1],s[2]),np.dot(s[2],s[2])]]\n",
    "\n",
    "  b = vector_class\n",
    "  alpha = np.linalg.solve(A,b)\n",
    "\n",
    "  # Step 5 : Calculate final W\n",
    "  for i in range(3):\n",
    "    w.append(np.dot(alpha[i],s[i]))\n",
    "  w = sum(w)\n",
    "#   print(f\"\\nWeight :{w[:-1]} \\nBias : {w[2]}\\n\")\n",
    "  plot_classes(data,w)\n",
    "  return w[:-1],w[2]\n"
   ]
  },
  {
   "cell_type": "code",
   "execution_count": 14,
   "metadata": {},
   "outputs": [],
   "source": [
    "def SVM_classify(weight,bias,inputs):\n",
    "    y = np.dot(weight,inputs)\n",
    "    y = y - bias\n",
    "    if(y>=1):\n",
    "        print(\"Predicted Class : Positive\")\n",
    "    elif(y<=-1):\n",
    "        print(\"Predicted Class : Negative\")\n",
    "    else:\n",
    "        print(\"The new datapoint lies on the Hyperplane\")"
   ]
  },
  {
   "cell_type": "markdown",
   "metadata": {},
   "source": [
    "##### Drawing support vector and classifying new input"
   ]
  },
  {
   "cell_type": "code",
   "execution_count": 8,
   "metadata": {
    "colab": {
     "base_uri": "https://localhost:8080/",
     "height": 912
    },
    "id": "DDJ9J1KsfZuw",
    "outputId": "e12be392-56ef-42b7-a8ee-a30b1667cfe0"
   },
   "outputs": [
    {
     "data": {
      "image/png": "[encoded data removed]",
      "text/plain": [
       "<Figure size 500x300 with 1 Axes>"
      ]
     },
     "metadata": {},
     "output_type": "display_data"
    },
    {
     "name": "stdout",
     "output_type": "stream",
     "text": [
      "Enter Support Vector 1: 1 0\n",
      "Enter the class to which Vector 1 belongs :-1\n",
      "Enter Support Vector 2: 3 1\n",
      "Enter the class to which Vector 2 belongs :1\n",
      "Enter Support Vector 3: 3 -1\n",
      "Enter the class to which Vector 3 belongs :1\n"
     ]
    },
    {
     "data": {
      "image/png": "[encoded data removed]",
      "text/plain": [
       "<Figure size 500x300 with 1 Axes>"
      ]
     },
     "metadata": {},
     "output_type": "display_data"
    },
    {
     "name": "stdout",
     "output_type": "stream",
     "text": [
      "\n",
      "Weight :[1. 0.] \n",
      "Bias : -2.0\n",
      "\n"
     ]
    }
   ],
   "source": [
    "w,b = SVM(df)\n",
    "print(f\"\\nWeight :{w} \\nBias : {b}\\n\")"
   ]
  },
  {
   "cell_type": "code",
   "execution_count": 15,
   "metadata": {},
   "outputs": [
    {
     "name": "stdout",
     "output_type": "stream",
     "text": [
      "Predicted Class : Positive\n"
     ]
    }
   ],
   "source": [
    "SVM_classify(w,b,[2,-2])"
   ]
  }
 ],
 "metadata": {
  "colab": {
   "provenance": []
  },
  "kernelspec": {
   "display_name": "Python 3 (ipykernel)",
   "language": "python",
   "name": "python3"
  },
  "language_info": {
   "codemirror_mode": {
    "name": "ipython",
    "version": 3
   },
   "file_extension": ".py",
   "mimetype": "text/x-python",
   "name": "python",
   "nbconvert_exporter": "python",
   "pygments_lexer": "ipython3",
   "version": "3.9.18"
  }
 },
 "nbformat": 4,
 "nbformat_minor": 1
}
